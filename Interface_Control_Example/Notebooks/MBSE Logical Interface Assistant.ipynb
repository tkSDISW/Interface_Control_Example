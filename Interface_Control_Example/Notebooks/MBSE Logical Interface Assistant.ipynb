{
 "cells": [
  {
   "cell_type": "markdown",
   "id": "2ef785c9-a1c0-4ad7-a185-02a1569ca072",
   "metadata": {},
   "source": [
    "# MBSE Logical Interface Assistant: \n",
    "## Leveraging AI to compose logical interface propoerties \n",
    "\n",
    "Welcome to the **MBSE Assistant Notebook**, a powerful tool designed to augment your ability to review, comprehend, and enhance system models with AI-driven support. This notebook integrates a variety of capabilities to assist with:\n",
    "\n",
    "```\n",
    "This interface assistance will examine the interface, determine if tagged with PMEIH designation.\n",
    "    Will use embeddings.\n",
    "If the interface has no PVGs\n",
    "    Use AI - Create a CSV with a set of properties and values based on the information of the interface.\n",
    "    Allow you ability to modify the .csv\n",
    "    Load the CSV \n",
    "else \n",
    "    AI-Comment on the current property values.\n",
    "    Load current in CSV.\n",
    "    Allow you ability to modify the CSV\n",
    "    Update the CSV values.\n",
    "end\n"
   ]
  },
  {
   "cell_type": "markdown",
   "id": "b5acc178-1a94-4014-b1f7-13c97a9ba4ec",
   "metadata": {},
   "source": [
    "### Model-Specific Code (Do Not Modify)\n",
    "\n",
    "This section contains code that is specific to the system model. It is updated only when the model is changed and should not require user modifications under normal circumstances.\n",
    "\n",
    "If a new model is introduced, ensure this section is reviewed and updated as needed.\n"
   ]
  },
  {
   "cell_type": "code",
   "execution_count": 1,
   "id": "c7ba8743-5dac-41be-9083-d44aa0199411",
   "metadata": {
    "scrolled": true
   },
   "outputs": [],
   "source": [
    "#!pip install --upgrade git+https://github.com/tkSDISW/Capella_Tools \n",
    "import capellambse.decl\n",
    "\n",
    "from capella_tools import capellambse_helper\n",
    "\n",
    "\n",
    "from IPython import display as diag_display\n",
    "resources = {\n",
    "    \"HBTurboFan\": \"HBTurbFan/High Bypass Turbo Fan\",\n",
    "}\n",
    "path_to_model = \"../High Bypass Turbo Fan.aird\"\n",
    "model = capellambse.MelodyModel(path_to_model, resources=resources)\n"
   ]
  },
  {
   "cell_type": "code",
   "execution_count": null,
   "id": "5f73131d-3ba3-4c6f-8418-378d418156a6",
   "metadata": {},
   "outputs": [],
   "source": []
  },
  {
   "cell_type": "markdown",
   "id": "98e07f65-caa7-4e20-9268-7c5df4783e36",
   "metadata": {},
   "source": [
    "## 🔄 Embedding Generation Process\n",
    "\n",
    "### Overview\n",
    "This section generates embeddings, which streamlines processing and analyzing the model. The embeddings provide a structured representation of the data that powers subsequent tasks and visualizations.\n",
    "\n",
    "##"
   ]
  },
  {
   "cell_type": "code",
   "execution_count": 2,
   "id": "2c54cb77-76e8-4309-90e0-7da1d2a2d9f8",
   "metadata": {},
   "outputs": [
    {
     "name": "stdout",
     "output_type": "stream",
     "text": [
      "OpenAI API Key retrieved successfully.\n",
      "Loading embeddings\n",
      "embeddings loaded.\n"
     ]
    }
   ],
   "source": [
    "\n",
    "from capella_tools  import capella_embeddings_manager\n",
    "\n",
    "# Generate embeddings for all objects\n",
    "model_embedding_manager = capella_embeddings_manager.EmbeddingManager()\n",
    "\n",
    "embedding_file = \"embeddings.json\" \n",
    "model_embedding_manager.set_files( path_to_model , embedding_file)\n",
    "\n",
    "model_embedding_manager.create_model_embeddings(model)"
   ]
  },
  {
   "cell_type": "markdown",
   "id": "f671a45d-5335-463c-802a-156296f21ad4",
   "metadata": {},
   "source": [
    "## 🎯 Prompt for System Model Element Analysis\n",
    "\n",
    "### Purpose\n",
    "This cell accepts a prompt to identify and isolate the specific object(s) to be analyzed. Providing detailed and accurate information in the prompt will ensure the best performance during the analysis.\n",
    "\n",
    "### What to Include in Your Prompt\n",
    "For optimal results, specify the following details about the object(s):\n",
    "1. **Type of ARCADIA Object:** Clearly state the type of the object (e.g., Logical Component, Physical Component, Functional Exchange).\n",
    "2. **Name of the Object:** Provide the exact name of the object as defined in the model.\n",
    "3. **ARCADIA Phase:** Specify the phase associated with the object (e.g., Operational Analysis, System Analysis, Logical Architecture, Physical Architecture).\n",
    "4. **Related Objects:** Identify any objects connected via exchanges or dependencies.\n"
   ]
  },
  {
   "cell_type": "code",
   "execution_count": 3,
   "id": "31298768-f6da-4f27-9c76-50d02b7a0fe7",
   "metadata": {},
   "outputs": [
    {
     "data": {
      "application/vnd.jupyter.widget-view+json": {
       "model_id": "18fb59a25fce460da9d0f7a30d6ef32a",
       "version_major": 2,
       "version_minor": 0
      },
      "text/plain": [
       "VBox(children=(Text(value='', layout=Layout(width='80%'), placeholder='Enter query for objects...'), SelectMul…"
      ]
     },
     "metadata": {},
     "output_type": "display_data"
    },
    {
     "name": "stdout",
     "output_type": "stream",
     "text": [
      "Waiting for selection...\n"
     ]
    }
   ],
   "source": [
    "#selected_objects  = model_embedding_manager.interactive_query_and_selection()\n",
    "\n",
    "from jupyter_ui_poll import ui_events\n",
    "import time\n",
    "\n",
    "# Start interactive selection\n",
    "model_embedding_manager.interactive_query_and_selection_widgets()\n",
    "\n",
    "# Retrieve the selection after submission\n",
    "selected_objects = model_embedding_manager.get_selected_objects()\n",
    "\n"
   ]
  },
  {
   "cell_type": "markdown",
   "id": "2dd4a6ad-39a9-4bc3-ae26-5d97c5fe394b",
   "metadata": {},
   "source": [
    "## 📝 Generate Structured Input File \n",
    "\n",
    "### Purpose\n",
    "This cell generates a structured structured input file, `capella_model.yaml`, which serves as input for prompts tailored to the object type of the last selected item. This ensures that the prompt aligns with the model's structure and provides accurate context for analysis.\n",
    "\n"
   ]
  },
  {
   "cell_type": "code",
   "execution_count": 4,
   "id": "4db8d5ea-0e49-4098-aedc-0914d956f286",
   "metadata": {},
   "outputs": [],
   "source": [
    "#Workflow\n",
    "from capella_tools import capellambse_yaml_manager\n",
    "yaml_handler = capellambse_yaml_manager.CapellaYAMLHandler()\n",
    "   \n",
    "#Generate YAML for the logical component and append to the file\n",
    "for object in  selected_objects : \n",
    "    yaml_handler.generate_yaml(model.by_uuid(object[\"uuid\"]))  \n",
    "\n",
    "\n",
    "\n",
    "\n",
    "\n",
    "#yaml_handler.display()\n",
    "yaml_handler.generate_yaml_referenced_objects()\n",
    "#yaml_handler.display()\n",
    "\n",
    "yaml_handler.write_output_file()\n"
   ]
  },
  {
   "cell_type": "markdown",
   "id": "1113cb97-36e1-46b4-aec7-9713aea09a64",
   "metadata": {},
   "source": [
    "## 🖼️ Generate Contextual Diagram\n",
    "\n",
    "### Purpose\n",
    "This cell generates a **contextual diagram** for the selected object. The diagram visually represents the object's relationships and interactions, providing a clear and comprehensive view of its context within the model.\n"
   ]
  },
  {
   "cell_type": "code",
   "execution_count": 5,
   "id": "6679d117-2c29-4dc1-9eac-b14e602b1cee",
   "metadata": {},
   "outputs": [
    {
     "data": {
      "image/png": "[encoded data removed]",
      "image/svg+xml": [
       "<svg baseProfile=\"full\" class=\"LogicalArchitectureBlank\" font-family=\"'Open Sans','Segoe UI',Arial,sans-serif\" font-size=\"10px\" height=\"135\" shape-rendering=\"geometricPrecision\" version=\"1.1\" viewBox=\"2 2 572 135\" width=\"572\" xmlns=\"http://www.w3.org/2000/svg\" xmlns:ev=\"http://www.w3.org/2001/xml-events\" xmlns:xlink=\"http://www.w3.org/1999/xlink\"><defs><symbol id=\"LogicalComponentSymbol\" stroke=\"#000\" stroke-width=\"2\" viewBox=\"0 0 79 79\"><path d=\"M18 237h46v43H18z\" fill=\"#dbe6f4\" transform=\"translate(0 -218)\" /><path d=\"M12 247h11v8H12z\" fill=\"#dbe6f4\" transform=\"translate(0 -218)\" /><path d=\"M12 261h11v8H12z\" fill=\"#dbe6f4\" transform=\"translate(0 -218)\" /><g transform=\"scale(0.90705135,1.1024734)\"><path d=\"m 37.427456,20.821353 h 4.221475 V 50.90971 H 37.427456 Z M 39.538194,46.89517 H 56.75519 v 4.01454 H 39.538194 Z\" fill=\"#000\" stroke-width=\"0.1\" /></g></symbol><linearGradient id=\"CustomGradient_C3E6FF_96B1DA\" x1=\"0\" x2=\"0\" y1=\"0\" y2=\"1\"><stop offset=\"0.0\" stop-color=\"#C3E6FF\" stop-opacity=\"1\" /><stop offset=\"1.0\" stop-color=\"#96B1DA\" stop-opacity=\"1\" /></linearGradient><symbol id=\"LogicalFunctionSymbol\" viewBox=\"0 0 79 79\"><linearGradient id=\"LF_green\" x1=\"0\" x2=\"1\" y1=\"0\" y2=\"0\"><stop offset=\"0.0\" stop-color=\"#6CB35B\" stop-opacity=\"1\" /><stop offset=\"1.0\" stop-color=\"#ffffff\" stop-opacity=\"1\" /></linearGradient><ellipse cx=\"39.5\" cy=\"39.5\" fill=\"url(#LF_green)\" rx=\"26\" ry=\"21\" stroke=\"#000\" stroke-width=\"2\" /><text fill=\"#000\" font-family=\"'Open Sans','Segoe UI',Arial,sans-serif\" font-size=\"25px\" font-weight=\"bold\" stroke=\"none\" text-anchor=\"middle\" x=\"40\" y=\"50\">LF</text></symbol><symbol id=\"ComponentExchangeSymbol\" viewBox=\"0 0 40 30\"><linearGradient id=\"ComponentExchangeSymbol-gradient\" x1=\"0\" x2=\"1\" y1=\"0\" y2=\"1\"><stop offset=\"0.0\" stop-color=\"#8FA5B6\" stop-opacity=\"1\" /><stop offset=\"1.0\" stop-color=\"#E0E9F3\" stop-opacity=\"1\" /></linearGradient><linearGradient id=\"ComponentExchangeSymbol-gradientreverse\" x1=\"0\" x2=\"1\" y1=\"0\" y2=\"1\"><stop offset=\"0.0\" stop-color=\"#E0E9F3\" stop-opacity=\"1\" /><stop offset=\"1.0\" stop-color=\"#8FA5B6\" stop-opacity=\"1\" /></linearGradient><g stroke=\"#000\" stroke-width=\"2\"><path d=\"M 36.190065,5.0377724 V 24.962228 H 26.17482 V 5.0377724 Z\" fill=\"url(#ComponentExchangeSymbol-gradientreverse)\" /><path d=\"m 14.372107,10 h 12.622435 c 0.926189,0.585267 1.836022,1.274509 2.268178,5 -0.208657,2.812473 -0.954601,4.503809 -2.273297,5 H 14.296948\" fill=\"#A3BCD0\" /><path d=\"M 3.9464908,5.0048246 V 24.995175 H 10.87518 C 12.433713,24.159139 15.158267,20.291241 15.313795,15 15.498614,11.583142 14.059659,6.6240913 10.87518,5.0048246 c -2.2179509,0 -4.5908341,0 -6.9286892,0 z\" fill=\"url(#ComponentExchangeSymbol-gradient)\" /></g></symbol><symbol id=\"FunctionalExchangeSymbol\" viewBox=\"0 0 40 30\"><linearGradient id=\"FunctionalExchangeSymbol-gradient\" x1=\"0\" x2=\"1\" y1=\"0\" y2=\"1\"><stop offset=\"0.0\" stop-color=\"#4F7C45\" stop-opacity=\"1\" /><stop offset=\"1.0\" stop-color=\"#BCDDB4\" stop-opacity=\"1\" /></linearGradient><linearGradient id=\"FunctionalExchangeSymbol-gradientreverse\" x1=\"0\" x2=\"1\" y1=\"0\" y2=\"1\"><stop offset=\"0.0\" stop-color=\"#BCDDB4\" stop-opacity=\"1\" /><stop offset=\"1.0\" stop-color=\"#4F7C45\" stop-opacity=\"1\" /></linearGradient><g stroke=\"#000\" stroke-width=\"2\"><path d=\"M 36.190065,5.0377724 V 24.962228 H 26.17482 V 5.0377724 Z\" fill=\"url(#FunctionalExchangeSymbol-gradientreverse)\" /><path d=\"m 14.372107,10 h 12.622435 c 0.926189,0.585267 1.836022,1.274509 2.268178,5 -0.208657,2.812473 -0.954601,4.503809 -2.273297,5 H 14.296948\" fill=\"#61c34c\" /><path d=\"M 3.9464908,5.0048246 V 24.995175 H 10.87518 C 12.433713,24.159139 15.158267,20.291241 15.313795,15 15.498614,11.583142 14.059659,6.6240913 10.87518,5.0048246 c -2.2179509,0 -4.5908341,0 -6.9286892,0 z\" fill=\"url(#FunctionalExchangeSymbol-gradient)\" /></g></symbol><symbol id=\"PortSymbol\" viewBox=\"0 0 10 10\"><path d=\"M0 0h10v10H0z\" /><path d=\"M5 1L1 9h8z\" fill=\"#fff\" /></symbol><symbol id=\"ComponentPortSymbol\" viewBox=\"0 0 10 10\"><path d=\"M0 0h10v10H0z\" /><path d=\"M 2,2 5,7 8,2\" /></symbol></defs><rect fill=\"#fff\" height=\"135\" stroke=\"none\" width=\"572\" x=\"2\" y=\"2\" /><g class=\"Box LogicalComponent context-05d38416-082d-48f1-a3de-a2615ec5ed38 context-3259b1b1-9c56-4899-b5ab-2434274e99dc context-67270e00-fad1-43ed-9e40-75d066c94414 context-6fac3648-66bc-4c48-977a-caf679b5afdb context-7e2199b0-d113-4057-9de3-d8e5a5394846 context-85bea33e-7b79-40e3-91c5-a803416cff93 context-90ed2a1f-7e1f-4850-a770-334e9fd1af1a context-9d594040-bb36-498e-a8f1-ce9c14723e89 context-__PortInputAllocation:67270e00-fad1-43ed-9e40-75d066c94414 context-__PortOutputAllocation:85bea33e-7b79-40e3-91c5-a803416cff93 context-d0963053-4a8b-49e8-9885-0950cec9d45a context-e4202082-f8ea-4870-97b4-1871ddb165f4\" id=\"6fac3648-66bc-4c48-977a-caf679b5afdb\"><rect class=\"LogicalComponent\" fill=\"url(&quot;#CustomGradient_C3E6FF_96B1DA&quot;)\" height=\"82\" stroke=\"#4A4A97\" stroke-width=\"1\" width=\"186\" x=\"12.5\" y=\"38.5\" /><text class=\"LogicalComponent\" dominant-baseline=\"middle\" fill=\"#4A4A97\" text-anchor=\"middle\" x=\"61\" y=\"43\"><tspan x=\"112.0\" xml:space=\"preserve\" y=\"51.714285714285715\">HP Outlet</tspan></text><use height=\"20\" width=\"20\" x=\"70.0\" xlink:href=\"#LogicalComponentSymbol\" y=\"41.714285714285715\" /></g><g class=\"Box LogicalFunction context-05d38416-082d-48f1-a3de-a2615ec5ed38 context-3259b1b1-9c56-4899-b5ab-2434274e99dc context-67270e00-fad1-43ed-9e40-75d066c94414 context-6fac3648-66bc-4c48-977a-caf679b5afdb context-7e2199b0-d113-4057-9de3-d8e5a5394846 context-85bea33e-7b79-40e3-91c5-a803416cff93 context-90ed2a1f-7e1f-4850-a770-334e9fd1af1a context-9d594040-bb36-498e-a8f1-ce9c14723e89 context-__PortInputAllocation:67270e00-fad1-43ed-9e40-75d066c94414 context-__PortOutputAllocation:85bea33e-7b79-40e3-91c5-a803416cff93 context-d0963053-4a8b-49e8-9885-0950cec9d45a context-e4202082-f8ea-4870-97b4-1871ddb165f4\" id=\"9d594040-bb36-498e-a8f1-ce9c14723e89\"><rect class=\"LogicalFunction\" fill=\"#C5FFA6\" height=\"39\" stroke=\"#095C2E\" stroke-width=\"1\" width=\"151\" x=\"25.5\" y=\"68.5\" /><text class=\"LogicalFunction\" dominant-baseline=\"middle\" fill=\"#095C2E\" text-anchor=\"middle\" x=\"24\" y=\"81\"><tspan x=\"107.0\" xml:space=\"preserve\" y=\"87.71428571428571\">Channel HP Outlet Air</tspan></text><use height=\"20\" width=\"20\" x=\"37.0\" xlink:href=\"#LogicalFunctionSymbol\" y=\"77.71428571428571\" /></g><g class=\"Box LogicalComponent context-05d38416-082d-48f1-a3de-a2615ec5ed38 context-3259b1b1-9c56-4899-b5ab-2434274e99dc context-67270e00-fad1-43ed-9e40-75d066c94414 context-6fac3648-66bc-4c48-977a-caf679b5afdb context-7e2199b0-d113-4057-9de3-d8e5a5394846 context-85bea33e-7b79-40e3-91c5-a803416cff93 context-90ed2a1f-7e1f-4850-a770-334e9fd1af1a context-9d594040-bb36-498e-a8f1-ce9c14723e89 context-__PortInputAllocation:67270e00-fad1-43ed-9e40-75d066c94414 context-__PortOutputAllocation:85bea33e-7b79-40e3-91c5-a803416cff93 context-d0963053-4a8b-49e8-9885-0950cec9d45a context-e4202082-f8ea-4870-97b4-1871ddb165f4\" id=\"90ed2a1f-7e1f-4850-a770-334e9fd1af1a\"><rect class=\"LogicalComponent\" fill=\"url(&quot;#CustomGradient_C3E6FF_96B1DA&quot;)\" height=\"115\" stroke=\"#4A4A97\" stroke-width=\"1\" width=\"171\" x=\"392.5\" y=\"12.5\" /><text class=\"LogicalComponent\" dominant-baseline=\"middle\" fill=\"#4A4A97\" text-anchor=\"middle\" x=\"408\" y=\"17\"><tspan x=\"493.0\" xml:space=\"preserve\" y=\"27.857142857142858\">HP Compressor Outlet</tspan><tspan x=\"493.0\" xml:space=\"preserve\" y=\"43.57142857142857\">Pressure</tspan></text><use height=\"20\" width=\"20\" x=\"421.5\" xlink:href=\"#LogicalComponentSymbol\" y=\"23.571428571428573\" /></g><g class=\"Box LogicalFunction context-05d38416-082d-48f1-a3de-a2615ec5ed38 context-3259b1b1-9c56-4899-b5ab-2434274e99dc context-67270e00-fad1-43ed-9e40-75d066c94414 context-6fac3648-66bc-4c48-977a-caf679b5afdb context-7e2199b0-d113-4057-9de3-d8e5a5394846 context-85bea33e-7b79-40e3-91c5-a803416cff93 context-90ed2a1f-7e1f-4850-a770-334e9fd1af1a context-9d594040-bb36-498e-a8f1-ce9c14723e89 context-__PortInputAllocation:67270e00-fad1-43ed-9e40-75d066c94414 context-__PortOutputAllocation:85bea33e-7b79-40e3-91c5-a803416cff93 context-d0963053-4a8b-49e8-9885-0950cec9d45a context-e4202082-f8ea-4870-97b4-1871ddb165f4\" id=\"3259b1b1-9c56-4899-b5ab-2434274e99dc\"><rect class=\"LogicalFunction\" fill=\"#C5FFA6\" height=\"55\" stroke=\"#095C2E\" stroke-width=\"1\" width=\"136\" x=\"414.5\" y=\"60.5\" /><text class=\"LogicalFunction\" dominant-baseline=\"middle\" fill=\"#095C2E\" text-anchor=\"middle\" x=\"421\" y=\"74\"><tspan x=\"496.5\" xml:space=\"preserve\" y=\"80.71428571428571\">Measure HP Outlet</tspan><tspan x=\"496.5\" xml:space=\"preserve\" y=\"92.14285714285714\">Pressure</tspan></text><use height=\"20\" width=\"20\" x=\"433.0\" xlink:href=\"#LogicalFunctionSymbol\" y=\"74.87012987012986\" /></g><g class=\"Edge ComponentExchange context-05d38416-082d-48f1-a3de-a2615ec5ed38 context-3259b1b1-9c56-4899-b5ab-2434274e99dc context-67270e00-fad1-43ed-9e40-75d066c94414 context-6fac3648-66bc-4c48-977a-caf679b5afdb context-7e2199b0-d113-4057-9de3-d8e5a5394846 context-85bea33e-7b79-40e3-91c5-a803416cff93 context-90ed2a1f-7e1f-4850-a770-334e9fd1af1a context-9d594040-bb36-498e-a8f1-ce9c14723e89 context-__PortInputAllocation:67270e00-fad1-43ed-9e40-75d066c94414 context-__PortOutputAllocation:85bea33e-7b79-40e3-91c5-a803416cff93 context-d0963053-4a8b-49e8-9885-0950cec9d45a context-e4202082-f8ea-4870-97b4-1871ddb165f4\" id=\"d0963053-4a8b-49e8-9885-0950cec9d45a\"><path class=\"Edge\" d=\"M 200.5 103.5 390.5 103.5\" fill=\"none\" stroke=\"#4A4A97\" stroke-width=\"4\" /><text class=\"Annotation\" dominant-baseline=\"middle\" fill=\"#4A4A97\" text-anchor=\"middle\" x=\"212.5\" y=\"106\"><tspan x=\"306.5\" xml:space=\"preserve\" y=\"114.71428571428572\">E- HP Outlet Pressure</tspan></text><use height=\"20\" width=\"20\" x=\"236.0\" xlink:href=\"#ComponentExchangeSymbol\" y=\"104.71428571428572\" /></g><g class=\"Edge FunctionalExchange context-05d38416-082d-48f1-a3de-a2615ec5ed38 context-3259b1b1-9c56-4899-b5ab-2434274e99dc context-67270e00-fad1-43ed-9e40-75d066c94414 context-6fac3648-66bc-4c48-977a-caf679b5afdb context-7e2199b0-d113-4057-9de3-d8e5a5394846 context-85bea33e-7b79-40e3-91c5-a803416cff93 context-90ed2a1f-7e1f-4850-a770-334e9fd1af1a context-9d594040-bb36-498e-a8f1-ce9c14723e89 context-__PortInputAllocation:67270e00-fad1-43ed-9e40-75d066c94414 context-__PortOutputAllocation:85bea33e-7b79-40e3-91c5-a803416cff93 context-d0963053-4a8b-49e8-9885-0950cec9d45a context-e4202082-f8ea-4870-97b4-1871ddb165f4\" id=\"7e2199b0-d113-4057-9de3-d8e5a5394846\"><path class=\"Edge\" d=\"M 178.5 88.5 203.5 88.5 213.5 88.5 213.5 75.5 377.5 75.5 377.5 88.5 387.5 88.5 412.5 88.5\" fill=\"none\" stroke=\"#095C2E\" stroke-width=\"2\" /><text class=\"Annotation\" dominant-baseline=\"middle\" fill=\"#095C2E\" text-anchor=\"middle\" x=\"219.5\" y=\"78\"><tspan x=\"306.5\" xml:space=\"preserve\" y=\"86.71428571428572\">HP Outlet Pressure</tspan></text><use height=\"20\" width=\"20\" x=\"242.0\" xlink:href=\"#FunctionalExchangeSymbol\" y=\"76.71428571428572\" /></g><g class=\"Edge PortOutputAllocation context-05d38416-082d-48f1-a3de-a2615ec5ed38 context-3259b1b1-9c56-4899-b5ab-2434274e99dc context-67270e00-fad1-43ed-9e40-75d066c94414 context-6fac3648-66bc-4c48-977a-caf679b5afdb context-7e2199b0-d113-4057-9de3-d8e5a5394846 context-85bea33e-7b79-40e3-91c5-a803416cff93 context-90ed2a1f-7e1f-4850-a770-334e9fd1af1a context-9d594040-bb36-498e-a8f1-ce9c14723e89 context-__PortInputAllocation:67270e00-fad1-43ed-9e40-75d066c94414 context-__PortOutputAllocation:85bea33e-7b79-40e3-91c5-a803416cff93 context-d0963053-4a8b-49e8-9885-0950cec9d45a context-e4202082-f8ea-4870-97b4-1871ddb165f4\" id=\"__PortOutputAllocation:85bea33e-7b79-40e3-91c5-a803416cff93\"><path class=\"Edge\" d=\"M 195.5 103.5 173.5 88.5\" fill=\"#095C2E\" stroke=\"#095C2E\" stroke-dasharray=\"2\" stroke-width=\"1\" /></g><g class=\"Edge PortInputAllocation context-05d38416-082d-48f1-a3de-a2615ec5ed38 context-3259b1b1-9c56-4899-b5ab-2434274e99dc context-67270e00-fad1-43ed-9e40-75d066c94414 context-6fac3648-66bc-4c48-977a-caf679b5afdb context-7e2199b0-d113-4057-9de3-d8e5a5394846 context-85bea33e-7b79-40e3-91c5-a803416cff93 context-90ed2a1f-7e1f-4850-a770-334e9fd1af1a context-9d594040-bb36-498e-a8f1-ce9c14723e89 context-__PortInputAllocation:67270e00-fad1-43ed-9e40-75d066c94414 context-__PortOutputAllocation:85bea33e-7b79-40e3-91c5-a803416cff93 context-d0963053-4a8b-49e8-9885-0950cec9d45a context-e4202082-f8ea-4870-97b4-1871ddb165f4\" id=\"__PortInputAllocation:67270e00-fad1-43ed-9e40-75d066c94414\"><path class=\"Edge\" d=\"M 417.5 88.5 395.5 103.5\" fill=\"#E08503\" stroke=\"#E08503\" stroke-dasharray=\"2\" stroke-width=\"1\" /></g><g class=\"Box FOP context-05d38416-082d-48f1-a3de-a2615ec5ed38 context-3259b1b1-9c56-4899-b5ab-2434274e99dc context-67270e00-fad1-43ed-9e40-75d066c94414 context-6fac3648-66bc-4c48-977a-caf679b5afdb context-7e2199b0-d113-4057-9de3-d8e5a5394846 context-85bea33e-7b79-40e3-91c5-a803416cff93 context-90ed2a1f-7e1f-4850-a770-334e9fd1af1a context-9d594040-bb36-498e-a8f1-ce9c14723e89 context-__PortInputAllocation:67270e00-fad1-43ed-9e40-75d066c94414 context-__PortOutputAllocation:85bea33e-7b79-40e3-91c5-a803416cff93 context-d0963053-4a8b-49e8-9885-0950cec9d45a context-e4202082-f8ea-4870-97b4-1871ddb165f4\" id=\"85bea33e-7b79-40e3-91c5-a803416cff93\"><use class=\"FOP\" fill=\"#095C2E\" height=\"10\" stroke=\"#000000\" stroke-width=\"0\" transform=\"rotate(90 173.5 88.5)\" width=\"10\" x=\"168.5\" xlink:href=\"#PortSymbol\" y=\"83.5\" /></g><g class=\"Box CP_OUT context-05d38416-082d-48f1-a3de-a2615ec5ed38 context-3259b1b1-9c56-4899-b5ab-2434274e99dc context-67270e00-fad1-43ed-9e40-75d066c94414 context-6fac3648-66bc-4c48-977a-caf679b5afdb context-7e2199b0-d113-4057-9de3-d8e5a5394846 context-85bea33e-7b79-40e3-91c5-a803416cff93 context-90ed2a1f-7e1f-4850-a770-334e9fd1af1a context-9d594040-bb36-498e-a8f1-ce9c14723e89 context-__PortInputAllocation:67270e00-fad1-43ed-9e40-75d066c94414 context-__PortOutputAllocation:85bea33e-7b79-40e3-91c5-a803416cff93 context-d0963053-4a8b-49e8-9885-0950cec9d45a context-e4202082-f8ea-4870-97b4-1871ddb165f4\" id=\"e4202082-f8ea-4870-97b4-1871ddb165f4\"><use class=\"CP_OUT\" fill=\"#FFFFFF\" height=\"10\" stroke=\"#000000\" stroke-width=\"1\" transform=\"rotate(-90 195.5 103.5)\" width=\"10\" x=\"190.5\" xlink:href=\"#ComponentPortSymbol\" y=\"98.5\" /></g><g class=\"Box FIP context-05d38416-082d-48f1-a3de-a2615ec5ed38 context-3259b1b1-9c56-4899-b5ab-2434274e99dc context-67270e00-fad1-43ed-9e40-75d066c94414 context-6fac3648-66bc-4c48-977a-caf679b5afdb context-7e2199b0-d113-4057-9de3-d8e5a5394846 context-85bea33e-7b79-40e3-91c5-a803416cff93 context-90ed2a1f-7e1f-4850-a770-334e9fd1af1a context-9d594040-bb36-498e-a8f1-ce9c14723e89 context-__PortInputAllocation:67270e00-fad1-43ed-9e40-75d066c94414 context-__PortOutputAllocation:85bea33e-7b79-40e3-91c5-a803416cff93 context-d0963053-4a8b-49e8-9885-0950cec9d45a context-e4202082-f8ea-4870-97b4-1871ddb165f4\" id=\"67270e00-fad1-43ed-9e40-75d066c94414\"><use class=\"FIP\" fill=\"#E08503\" height=\"10\" stroke=\"#000000\" stroke-width=\"0\" transform=\"rotate(90 417.5 88.5)\" width=\"10\" x=\"412.5\" xlink:href=\"#PortSymbol\" y=\"83.5\" /></g><g class=\"Box CP_IN context-05d38416-082d-48f1-a3de-a2615ec5ed38 context-3259b1b1-9c56-4899-b5ab-2434274e99dc context-67270e00-fad1-43ed-9e40-75d066c94414 context-6fac3648-66bc-4c48-977a-caf679b5afdb context-7e2199b0-d113-4057-9de3-d8e5a5394846 context-85bea33e-7b79-40e3-91c5-a803416cff93 context-90ed2a1f-7e1f-4850-a770-334e9fd1af1a context-9d594040-bb36-498e-a8f1-ce9c14723e89 context-__PortInputAllocation:67270e00-fad1-43ed-9e40-75d066c94414 context-__PortOutputAllocation:85bea33e-7b79-40e3-91c5-a803416cff93 context-d0963053-4a8b-49e8-9885-0950cec9d45a context-e4202082-f8ea-4870-97b4-1871ddb165f4\" id=\"05d38416-082d-48f1-a3de-a2615ec5ed38\"><use class=\"CP_IN\" fill=\"#FFFFFF\" height=\"10\" stroke=\"#000000\" stroke-width=\"1\" transform=\"rotate(270 395.5 103.5)\" width=\"10\" x=\"390.5\" xlink:href=\"#ComponentPortSymbol\" y=\"98.5\" /></g></svg>"
      ],
      "text/plain": [
       "<Diagram 'Interface Context of E- HP Outlet Pressure'>"
      ]
     },
     "metadata": {},
     "output_type": "display_data"
    }
   ],
   "source": [
    "for object in  selected_objects : \n",
    "    #print(object)\n",
    "    if object[\"type\"] == \"Diagram\" :\n",
    "        diagram = model.by_uuid(object[\"uuid\"])\n",
    "        #display(diagram)\n",
    "    else:\n",
    "        obj = model.by_uuid(object[\"uuid\"])\n",
    "        capellambse_helper.display_context_diagram(obj)"
   ]
  },
  {
   "cell_type": "markdown",
   "id": "a1ed6cc0-6c32-4f80-8a39-1dccfaca5eb5",
   "metadata": {},
   "source": [
    "## 💬 Predefined Prompts for Analysis\n",
    "\n",
    "### Purpose\n",
    "This cell contains predefined prompts for analyzing different types of ARCADIA elements, including components, functions, operational processes, and a default prompt. You can use these as-is or tailor them to suit your specific needs.\n",
    "\n"
   ]
  },
  {
   "cell_type": "code",
   "execution_count": 6,
   "id": "24590371-907b-4e64-898f-99c5e9499460",
   "metadata": {},
   "outputs": [],
   "source": [
    "component_prompt = \"\"\"\n",
    "Please analyze the yaml file and display the result as .html and specifically provide insights on:\n",
    "1. The purpose of the component.\n",
    "2. Any components that make it up.\n",
    "3. A list of allocated functions and their potential roles.\n",
    "4. How the ports relate to the functions.\n",
    "5. Any traceabilty artifacts linked to the component and the artifacts url.\n",
    "6. Suggestions for improving the component description.\n",
    "7. Create a tabular table with columns for the component and its ports and the port interfaces, the interface souce and the interface target.\n",
    "8. List any property values and the related model element.\n",
    "9. A summary of any related state machines.\n",
    "\"\"\"\n",
    "component_exchange_prompt = \"\"\"\n",
    "Please analyze the yaml file and display the result as .html and specifically provide insights on:\n",
    "1. The purpose of the component exchange.\n",
    "2. A list of allocated functions exchanges and their potential roles.\n",
    "3. Related functional chains\n",
    "5. Any traceabilty artifacts linked to the component and the artifacts url.\n",
    "6. Suggestions for improving the component exchange name and decription.\n",
    "\"\"\"\n",
    "\n",
    "function_prompt = \"\"\"\n",
    "Please analyze the yaml file and display the result as .html specifically provide insights on:\n",
    "1. The purpose of the function.\n",
    "2. Its owning component.\n",
    "4. Any ports relate to the functions.\n",
    "5. Any traceabilty artifacts linked to the component and the artifacts url.\n",
    "6. Suggestions for improving the function description.\n",
    "7. Create a tabular table with columns for the owning component, this function, its ports and the functional exchanges.\n",
    "\"\"\"\n",
    "activity_prompt = \"\"\"\n",
    "Please analyze the yaml file and display the result as .html specifically provide insights on:\n",
    "1. The purpose of the activity.\n",
    "2. Its actor or entiry.\n",
    "4. Any traceabilty artifacts linked to the component and the artifacts url.\n",
    "7. Suggestions for improving the activity description.\n",
    "7. Create a tabular table with columns for the owning entity or actor, this activity, its exchanges.\n",
    "\"\"\"\n",
    "functional_chain_prompt = \"\"\"\n",
    "Please analyze the YAML file and display the result as .html specifically provide insights on:\n",
    "1. The purpose of the functional chain.\n",
    "2. A table with first column being the owning component, the second being a function, last column being involved functional exchange, organized by involved functional exchanges.\n",
    "3. Any traceabilty artifacts linked to functional chain, functions, owning component and the traceability artifacts url.\n",
    "4. List any property values and the related model element.\n",
    "Please format the analysis in .html suitable for Juypter Notbook display operation.\n",
    "\"\"\"\n",
    "operational_process_prompt = \"\"\"\n",
    "Please analyze the YAML file and display the result as .html specifically provide insights on:\n",
    "1. The purpose of the operation process.\n",
    "2. A table with first column being the owning component, the second being a activities, last column being involved activity exchange, organized by involved activity exchanges.\n",
    "3. Any traceabilty artifacts linked to the operational process chain, activities, owning component and the traceability artifacts url.\n",
    "4. List any property values and the related model element.\n",
    "Please format the analysis in .html suitable for Juypter Notbook display operation.\n",
    "\"\"\"\n",
    "diagram_prompt = \"\"\"\n",
    "Please analyze the YAML file and display the result as .html specifically provide insights on:\n",
    "1. The purpose of the diagram based on its related nodes.\n",
    "2. Describe what the nodes represent in the ARCADIA method and what the diagram is describing.\n",
    "Please format the analysis in .html suitable for Juypter Notbook display operation.\n",
    "\"\"\"\n",
    "default_prompt = \"\"\"\n",
    "Please analyze the YAML file and display the result as .html specifically provide insights on:\n",
    "1. The purpose of the primary component listed first in the yaml file.=.\n",
    "2. List any property values and the related model element.\n",
    "Please format the analysis in .html suitable for Juypter Notbook display operation.\n",
    "\"\"\"\n",
    "\n"
   ]
  },
  {
   "cell_type": "markdown",
   "id": "4a3e82f3-a07b-404e-a230-7ebcf690e3e4",
   "metadata": {},
   "source": [
    "## ⚙️ Execute Default Prompts\n",
    "\n",
    "### Purpose\n",
    "This cell executes the **default prompts** defined for analyzing the model. These prompts are designed to provide general insights and overviews when specific object types or contexts are not explicitly defined.\n",
    "\n",
    "### What This Cell Does\n",
    "- Reads the structured input file (e.g., `capella_model.yaml`).\n",
    "- Uses the default prompts to query key details about the selected object(s).\n",
    "- Outputs the results directly in the notebook.\n",
    "\n",
    "### 🛠️ Instructions\n",
    "1. Ensure the `capella_model.yaml` file is generated and up-to-date.\n",
    "2. Run this cell to execute the default prompts.\n",
    "3. Review the output to verify the accuracy and relevance of the analysis.\n",
    "\n",
    "### 📝 Notes\n",
    "- The default prompts are **general-purpose** and may not capture all details specific to certain object types.\n",
    "- For more tailored analysis, consider using prompts designed for specific ARCADIA elements.\n",
    "\n",
    "> 💡 **Tip:** Use the default prompts as a starting point, then refine or modify them based on your analysis needs.\n"
   ]
  },
  {
   "cell_type": "code",
   "execution_count": 7,
   "id": "8cf53953-bfae-4677-9f45-906e72aa93e1",
   "metadata": {},
   "outputs": [
    {
     "name": "stdout",
     "output_type": "stream",
     "text": [
      "Warning: When  cdn_resources is 'local' jupyter notebook has issues displaying graphics on chrome/safari. Use cdn_resources='in_line' or cdn_resources='remote' if you have issues viewing graphics in a notebook.\n",
      "OpenAI API Key retrieved successfully.\n"
     ]
    },
    {
     "data": {
      "text/markdown": [
       "**Your prompt:** \n",
       "Please analyze the yaml file and display the result as .html and specifically provide insights on:\n",
       "1. The purpose of the component exchange.\n",
       "2. A list of allocated functions exchanges and their potential roles.\n",
       "3. Related functional chains\n",
       "5. Any traceabilty artifacts linked to the component and the artifacts url.\n",
       "6. Suggestions for improving the component exchange name and decription.\n",
       " Format the response in .html format."
      ],
      "text/plain": [
       "<IPython.core.display.Markdown object>"
      ]
     },
     "metadata": {},
     "output_type": "display_data"
    },
    {
     "data": {
      "text/html": [
       "\n",
       "<!DOCTYPE html>\n",
       "\n",
       "<html lang=\"en\">\n",
       "<head>\n",
       "<meta charset=\"utf-8\"/>\n",
       "<meta content=\"width=device-width, initial-scale=1.0\" name=\"viewport\"/>\n",
       "<title>System Model Analysis</title>\n",
       "\n",
       "</head>\n",
       "<body>\n",
       "<h1>System Model Analysis</h1>\n",
       "<h2>1. Purpose of the Component Exchange</h2>\n",
       "<p>The component exchange named <strong>E- HP Outlet Pressure</strong> serves as a mechanism to transfer data or control signals between the <span class=\"highlight\">HP Outlet</span> and the <span class=\"highlight\">HP Compressor Outlet Pressure</span> components. This exchange is likely critical in the seamless operation and monitoring of pressure within the high-pressure compressor system.</p>\n",
       "<h2>2. List of Allocated Functional Exchanges and Their Potential Roles</h2>\n",
       "<ul class=\"highlight\">\n",
       "<li><strong>HP Outlet Pressure</strong>: This functional exchange acts as a bridge for monitoring and managing the pressure data from the HP Outlet to ensure the correct operational pressure within the compressor system.</li>\n",
       "</ul>\n",
       "<h2>3. Related Functional Chains</h2>\n",
       "<p>The functional exchange involves the functional chain named <strong>Monitor HPC Discharge Pressure</strong>. This chain likely encompasses a series of actions or processes to evaluate and maintain optimal pressure levels for operational efficiency and safety.</p>\n",
       "<h2>4. Traceability Artifacts Linked to the Component and Their URLs</h2>\n",
       "<p>Currently, the YAML file does not provide explicit URLs for traceability artifacts linked to the components or exchanges. Ideally, such artifacts would include URLs to documentation, diagrams, or repositories that provide comprehensive traceability.</p>\n",
       "<h2>5. Suggestions for Improving the Component Exchange Name and Description</h2>\n",
       "<ul class=\"highlight\">\n",
       "<li><strong>Name Enhancement</strong>: Consider renaming to <em>\"HP Outlet to Compressor Pressure Exchange\"</em> for better clarity and specificity.</li>\n",
       "<li><strong>Description Improvement</strong>: Add a brief explanation such as \"Facilitates the transfer of operational pressure data from the HP Outlet to the Compressor for efficient system performance and monitoring.\"</li>\n",
       "</ul>\n",
       "</body>\n",
       "</html>\n"
      ],
      "text/plain": [
       "<IPython.core.display.HTML object>"
      ]
     },
     "metadata": {},
     "output_type": "display_data"
    },
    {
     "data": {
      "text/markdown": [
       "**Token Usage Info:**\n",
       "\n",
       "Tokens used: prompt=507, completion=601, total=1108"
      ],
      "text/plain": [
       "<IPython.core.display.Markdown object>"
      ]
     },
     "metadata": {},
     "output_type": "display_data"
    }
   ],
   "source": [
    "import os\n",
    "from openai import OpenAI\n",
    "from IPython.core.display import HTML\n",
    "from IPython.display import display, clear_output, Markdown\n",
    "#from capella_tools  import Open_AI_RAG_manager\n",
    "\n",
    "from capella_tools import Open_AI_RAG_manager\n",
    "#print(object)\n",
    "if object[\"type\"] ==  \"LogicalComponent\" or object[\"type\"] ==  \"SystemComponent\" or object[\"type\"] ==  \"PhysicalComponent-BEHAVIOR\"  or object[\"type\"] ==  \"PhysicalComponent-NODE\" :\n",
    "    prompt = component_prompt\n",
    "elif object[\"type\"] ==  \"FunctionalChain\" :  \n",
    "    prompt = functional_chain_prompt\n",
    "elif object[\"type\"] ==  \"OperationalProcess\":  \n",
    "    prompt = functional_chain_prompt\n",
    "elif object[\"type\"] ==  \"SystemFuntion\" or object[\"type\"] ==  \"LogicalFunction\" or object[\"type\"] ==  \"PhysicalFunction\":\n",
    "    prompt = function_prompt\n",
    "elif object[\"type\"] ==  \"OperationalActivity\" : \n",
    "    prompt = activity_prompt\n",
    "elif object[\"type\"] ==  \"Diagram\" : \n",
    "    prompt = diagram_prompt\n",
    "elif object[\"type\"] ==  \"ComponentExchange\" : \n",
    "    prompt = component_exchange_prompt\n",
    "else :\n",
    "    prompt = default_prompt    \n",
    "\n",
    "\n",
    "# Step 1: Get YAML content\n",
    "yaml_content = yaml_handler.get_yaml_content()\n",
    "\n",
    "# Step 2: Invoke ChatGPT for analysis\n",
    "analyzer = Open_AI_RAG_manager.ChatGPTAnalyzer(yaml_content)\n",
    "analyzer.initial_prompt(prompt)\n",
    "chatgpt_response = analyzer.get_response()\n"
   ]
  },
  {
   "cell_type": "markdown",
   "id": "0ab07e0f-6cdb-4b16-9c5b-0acd3e7944cd",
   "metadata": {},
   "source": [
    "## ⚙️ Execute Followup Prompts\n",
    "\n",
    "### Purpose\n",
    "This cell executes the **follow up prompts** defined for analyzing the model. These prompts can be added by the note book user in addition to the default prompts\n",
    "\n",
    "### What This Cell Does\n",
    "- Use the structured input file (e.g., `capella_model.yaml`).\n",
    "- Excutes the prompt defined in the cell.\n",
    "- Outputs the results directly in the notebook.\n",
    "\n",
    "### 🛠️ Instructions\n",
    "1. Ensure the `capella_model.yaml` file is generated and up-to-date.\n",
    "2. Run this cell to execute the default prompts.\n",
    "3. Review the output to verify the accuracy and relevance of the analysis.\n",
    "\n",
    "> 💡 **Tip:** Modify the promt to your needs."
   ]
  },
  {
   "cell_type": "code",
   "execution_count": 8,
   "id": "fab94bcf-5ea3-4d7d-89e8-508dcd603d71",
   "metadata": {},
   "outputs": [
    {
     "data": {
      "text/markdown": [
       "**Your prompt:** \n",
       "Examine the component exchange that is primary object. It name is going to classify the interface as either PMEIH, Physical, Mechanical, Electrical/Electroinc, or Hydarulic.\n",
       "If the name starts with an E- propose a set of electical properties for the interface based on the content of the yaml file and general knowlege\n",
       "If the name starts with an M- propose a set of mechanical properties for the interface based on the content of the yaml file and general knowlege \n",
       "If the name starts with an P- propose a set of Physical properties for the interface based on the content of the yaml file and general knowlege\n",
       "If the name starts with an H- propose a set of Hydraulic properties for the interface based on the content of the yaml file and general knowlege\n",
       "If the name starts with an I- propose a set of Information of Data properties for the interface based on the content of the yaml file.\n",
       "If the name does not have either E-, M-, P-, H-, I- propose a set based on yaml and general knowlege. \n",
       "Format the response in CSV, include no extra text, or prefix for csv in response. Include column for name, description, value, units\n"
      ],
      "text/plain": [
       "<IPython.core.display.Markdown object>"
      ]
     },
     "metadata": {},
     "output_type": "display_data"
    },
    {
     "data": {
      "text/markdown": [
       "**Response:**\n",
       "\n",
       "```csv\n",
       "\"name\",\"description\",\"value\",\"units\"\n",
       "\"Voltage Level\",\"Typical voltage level required for HP Outlet Pressure data exchange\",\"5\",\"V\"\n",
       "\"Current Rating\",\"Expected current flow for the interface\",\"50\",\"mA\"\n",
       "\"Signal Type\",\"Nature of signal used in pressure data exchange\",\"Digital\",\"\"\n",
       "\"Connector Type\",\"Compatible connector type for electrical interfacing\",\"Sub-D\",\"\"\n",
       "\"Cable Type\",\"Recommended cable type for stable electrical connection\",\"Twisted Pair\",\"\"\n",
       "\"Frequency Range\",\"Operating frequency range of the electrical signals\",\"20-100\",\"kHz\"\n",
       "\"Insulation Resistance\",\"Required insulation resistance for safety and performance\",\"100\",\"MΩ\"\n",
       "\"Shielding\",\"Shielding to minimize interference\",\"Foil\",\"\"\n"
      ],
      "text/plain": [
       "<IPython.core.display.Markdown object>"
      ]
     },
     "metadata": {},
     "output_type": "display_data"
    },
    {
     "data": {
      "text/markdown": [
       "**Token Usage Info:**\n",
       "\n",
       "Tokens used: prompt=1362, completion=147, total=1509"
      ],
      "text/plain": [
       "<IPython.core.display.Markdown object>"
      ]
     },
     "metadata": {},
     "output_type": "display_data"
    },
    {
     "name": "stdout",
     "output_type": "stream",
     "text": [
      "✅ CSV file saved: /home/simcenter/studio/HBTurboFan/High Bypass Turbo Fan/Notebooks/proposed_property_values.csv\n"
     ]
    }
   ],
   "source": [
    "prompt = '''\n",
    "Examine the component exchange that is primary object. It name is going to classify the interface as either PMEIH, Physical, Mechanical, Electrical/Electroinc, or Hydarulic.\n",
    "If the name starts with an E- propose a set of electical properties for the interface based on the content of the yaml file and general knowlege\n",
    "If the name starts with an M- propose a set of mechanical properties for the interface based on the content of the yaml file and general knowlege \n",
    "If the name starts with an P- propose a set of Physical properties for the interface based on the content of the yaml file and general knowlege\n",
    "If the name starts with an H- propose a set of Hydraulic properties for the interface based on the content of the yaml file and general knowlege\n",
    "If the name starts with an I- propose a set of Information of Data properties for the interface based on the content of the yaml file.\n",
    "If the name does not have either E-, M-, P-, H-, I- propose a set based on yaml and general knowlege. \n",
    "Format the response in CSV, include no extra text, or prefix for csv in response. Include column for name, description, value, units\n",
    "'''\n",
    "analyzer.follow_up_prompt(prompt)\n",
    "\n",
    "chatgpt_response = analyzer.get_response()\n",
    "analyzer.save_to_csv(\"proposed_property_values.csv\",chatgpt_response)\n"
   ]
  },
  {
   "cell_type": "markdown",
   "id": "614ada9b-367c-4929-badf-e27c7170b825",
   "metadata": {},
   "source": [
    "## 💬 Launch Interactive Chat on Structured Input\n",
    "\n",
    "### Purpose\n",
    "This cell launches an interactive chat session based on the structured input file, leveraging ARCADIA and Polarion terminology to ensure the analysis remains consistent with the modeling context.\n",
    "\n",
    "### Key Features\n",
    "- Uses the generated structured input file (e.g., `capella_model.yaml`) to guide the conversation.\n",
    "- Supports ARCADIA terms such as **functions**, **components**, **activities**, and **exchanges**.\n",
    "- Incorporates Polarion terms like **workitem**, **requirement**, and **traceability** for seamless integration with requirements management workflows.\n",
    "\n",
    "### How It Works\n",
    "1. The structured input file provides context for the chat session.\n",
    "2. You can interactively query details about the model elements, relationships, and dependencies.\n",
    "3. Responses are tailored using ARCADIA and Polarion terminology.\n",
    "\n",
    "### Example Prompts\n",
    "- **For ARCADIA:**\n",
    "  ```plaintext\n",
    "  What are the dependencies and exchanges for the selected function in the Logical Architecture phase?\n",
    "\n",
    "- **For Polarion:**\n",
    "  ```plaintext\n",
    "  Provide the traceability matrix for the workitem linked to this component.\n",
    "  ```\n",
    "### 🛠️ Instructions\n",
    "1. Ensure the `capella_model.yaml` file has been generated and is up-to-date.\n",
    "2. Run this cell to start the interactive chat session.\n",
    "3. Enter your queries using **ARCADIA** or **Polarion** terms for accurate and relevant responses.\n",
    "\n",
    "### 📝 Notes\n",
    "- The interactive chat dynamically adapts to the content in the structured input file.\n",
    "- Use precise and contextual queries to ensure the best results and insights.\n",
    "\n",
    "> 💡 **Tip:** If you're unfamiliar with ARCADIA or Polarion terminology, consult the respective documentation or glossary for guidance.\n",
    "\n"
   ]
  },
  {
   "cell_type": "code",
   "execution_count": null,
   "id": "ac1d370a-fcf4-4084-9064-f5e11a03a641",
   "metadata": {},
   "outputs": [
    {
     "name": "stdout",
     "output_type": "stream",
     "text": [
      "Starting interactive chat...\n"
     ]
    },
    {
     "data": {
      "application/vnd.jupyter.widget-view+json": {
       "model_id": "dec7a6bb349c4215bf17404535277225",
       "version_major": 2,
       "version_minor": 0
      },
      "text/plain": [
       "Output()"
      ]
     },
     "metadata": {},
     "output_type": "display_data"
    },
    {
     "data": {
      "application/vnd.jupyter.widget-view+json": {
       "model_id": "42ac82df48aa441a99f33523c65df366",
       "version_major": 2,
       "version_minor": 0
      },
      "text/plain": [
       "Textarea(value='', layout=Layout(border_bottom='2px solid #4A90E2', border_left='2px solid #4A90E2', border_ri…"
      ]
     },
     "metadata": {},
     "output_type": "display_data"
    },
    {
     "data": {
      "application/vnd.jupyter.widget-view+json": {
       "model_id": "c7f82df4cb384c299bd723dc63e9007e",
       "version_major": 2,
       "version_minor": 0
      },
      "text/plain": [
       "HBox(children=(Button(button_style='primary', description='Execute', style=ButtonStyle()), Button(button_style…"
      ]
     },
     "metadata": {},
     "output_type": "display_data"
    },
    {
     "data": {
      "application/vnd.jupyter.widget-view+json": {
       "model_id": "e7fe97d246b6465cb1e212849711bcad",
       "version_major": 2,
       "version_minor": 0
      },
      "text/plain": [
       "Dropdown(description='Load file:', layout=Layout(width='auto'), options=('', 'embeddings.json', 'capella_model…"
      ]
     },
     "metadata": {},
     "output_type": "display_data"
    },
    {
     "name": "stdout",
     "output_type": "stream",
     "text": [
      "Waiting for chat interactions...\n"
     ]
    }
   ],
   "source": [
    "analyzer.interactive_chat()\n"
   ]
  },
  {
   "cell_type": "code",
   "execution_count": null,
   "id": "57dea895-123c-4c7f-b386-89510fcfcd9d",
   "metadata": {
    "jupyter": {
     "source_hidden": true
    }
   },
   "outputs": [],
   "source": [
    "print(\"Done\")"
   ]
  },
  {
   "cell_type": "markdown",
   "id": "8fb2484d-c283-416d-b5ae-03289fc2a8a1",
   "metadata": {},
   "source": [
    "# "
   ]
  },
  {
   "cell_type": "code",
   "execution_count": null,
   "id": "a4c59542-ddf7-4047-9007-2613a7f96589",
   "metadata": {
    "collapsed": true,
    "jupyter": {
     "outputs_hidden": true,
     "source_hidden": true
    }
   },
   "outputs": [],
   "source": []
  },
  {
   "cell_type": "code",
   "execution_count": null,
   "id": "edddd2fe-aeef-43a8-94d2-4b7cac1ce700",
   "metadata": {
    "collapsed": true,
    "jupyter": {
     "outputs_hidden": true,
     "source_hidden": true
    }
   },
   "outputs": [],
   "source": []
  }
 ],
 "metadata": {
  "kernelspec": {
   "display_name": "Python 3 (ipykernel)",
   "language": "python",
   "name": "python3"
  },
  "language_info": {
   "codemirror_mode": {
    "name": "ipython",
    "version": 3
   },
   "file_extension": ".py",
   "mimetype": "text/x-python",
   "name": "python",
   "nbconvert_exporter": "python",
   "pygments_lexer": "ipython3",
   "version": "3.12.9"
  }
 },
 "nbformat": 4,
 "nbformat_minor": 5
}
